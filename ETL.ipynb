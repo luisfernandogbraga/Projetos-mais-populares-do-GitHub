{
 "cells": [
  {
   "cell_type": "code",
   "execution_count": null,
   "metadata": {},
   "outputs": [],
   "source": [
    "pip install beautifulsoup4"
   ]
  },
  {
   "cell_type": "code",
   "execution_count": 22,
   "metadata": {},
   "outputs": [],
   "source": [
    "import requests\n",
    "from urllib.request import urlopen\n",
    "from urllib.error import HTTPError\n",
    "from urllib.error import URLError\n",
    "from bs4 import BeautifulSoup\n",
    "import time"
   ]
  },
  {
   "cell_type": "markdown",
   "metadata": {},
   "source": [
    "Escrevendo SCRAPER (Prever erros)"
   ]
  },
  {
   "cell_type": "code",
   "execution_count": 5,
   "metadata": {},
   "outputs": [
    {
     "name": "stdout",
     "output_type": "stream",
     "text": [
      "<h1 class=\"sr-only\" id=\"search-suggestions-dialog-header\">Search code, repositories, users, issues, pull requests...</h1>\n"
     ]
    }
   ],
   "source": [
    "def getTitle(url):\n",
    "    try:\n",
    "        html= urlopen(url)\n",
    "    except HTTPError as e:\n",
    "        return None\n",
    "    try:\n",
    "        bs4= BeautifulSoup(html.read(), 'html.parser')\n",
    "        title= bs4.body.h1\n",
    "    except AttributeError as e:\n",
    "        return None\n",
    "    return title\n",
    "\n",
    "title= getTitle('https://github.com/search?o=desc&q=stars%3A%3E100000+language%3APython&s=stars&type=Repositories&l=Python')\n",
    "if title == None:\n",
    "    print('Titulo não foi encontrado')\n",
    "else:\n",
    "    print(title)\n",
    "\n"
   ]
  },
  {
   "cell_type": "code",
   "execution_count": 9,
   "metadata": {},
   "outputs": [],
   "source": [
    "html= urlopen('https://github.com/search?o=desc&q=stars%3A%3E100000+language%3APython&s=stars&type=Repositories&l=Python')\n",
    "bs4= BeautifulSoup(html.read(), 'html.parser')"
   ]
  },
  {
   "cell_type": "code",
   "execution_count": 27,
   "metadata": {},
   "outputs": [
    {
     "name": "stdout",
     "output_type": "stream",
     "text": [
      "1. public-apis/public-apis\n",
      "2. donnemartin/system-design-primer\n",
      "3. vinta/awesome-python\n",
      "4. TheAlgorithms/Python\n",
      "5. jackfrued/Python-100-Days\n",
      "6. ytdl-org/youtube-dl\n",
      "7. AUTOMATIC1111/stable-diffusion-webui\n",
      "8. huggingface/transformers\n"
     ]
    }
   ],
   "source": [
    "# Encontrar os elementos desejados\n",
    "namelist = bs4.findAll('span', {'class':'Text-sc-17v1xeu-0 qaOIC search-match'})\n",
    "\n",
    "# Imprimir os 20 primeiros\n",
    "for index, name in enumerate(namelist[:10]):\n",
    "    print(f\"{index + 1}. {name.get_text()}\")\n",
    "\n",
    "# Adicionar um atraso de 1 segundo entre as solicitações\n",
    "time.sleep(1)"
   ]
  }
 ],
 "metadata": {
  "kernelspec": {
   "display_name": "Python 3",
   "language": "python",
   "name": "python3"
  },
  "language_info": {
   "codemirror_mode": {
    "name": "ipython",
    "version": 3
   },
   "file_extension": ".py",
   "mimetype": "text/x-python",
   "name": "python",
   "nbconvert_exporter": "python",
   "pygments_lexer": "ipython3",
   "version": "3.12.1"
  }
 },
 "nbformat": 4,
 "nbformat_minor": 2
}
