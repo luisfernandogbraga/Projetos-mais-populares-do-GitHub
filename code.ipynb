{
 "cells": [
  {
   "cell_type": "code",
   "execution_count": 1,
   "metadata": {},
   "outputs": [],
   "source": [
    "import pandas as pd\n",
    "import matplotlib.pyplot as plt\n",
    "import seaborn as sns"
   ]
  },
  {
   "cell_type": "code",
   "execution_count": 3,
   "metadata": {},
   "outputs": [
    {
     "data": {
      "text/html": [
       "<div>\n",
       "<style scoped>\n",
       "    .dataframe tbody tr th:only-of-type {\n",
       "        vertical-align: middle;\n",
       "    }\n",
       "\n",
       "    .dataframe tbody tr th {\n",
       "        vertical-align: top;\n",
       "    }\n",
       "\n",
       "    .dataframe thead th {\n",
       "        text-align: right;\n",
       "    }\n",
       "</style>\n",
       "<table border=\"1\" class=\"dataframe\">\n",
       "  <thead>\n",
       "    <tr style=\"text-align: right;\">\n",
       "      <th></th>\n",
       "      <th>project</th>\n",
       "      <th>language</th>\n",
       "      <th>stars</th>\n",
       "      <th>starts_today</th>\n",
       "      <th>forks</th>\n",
       "    </tr>\n",
       "    <tr>\n",
       "      <th>ranking</th>\n",
       "      <th></th>\n",
       "      <th></th>\n",
       "      <th></th>\n",
       "      <th></th>\n",
       "      <th></th>\n",
       "    </tr>\n",
       "  </thead>\n",
       "  <tbody>\n",
       "    <tr>\n",
       "      <th>1</th>\n",
       "      <td>apple</td>\n",
       "      <td>Ruby</td>\n",
       "      <td>805</td>\n",
       "      <td>273</td>\n",
       "      <td>17</td>\n",
       "    </tr>\n",
       "    <tr>\n",
       "      <th>2</th>\n",
       "      <td>openchatai</td>\n",
       "      <td>Blade</td>\n",
       "      <td>2385</td>\n",
       "      <td>655</td>\n",
       "      <td>191</td>\n",
       "    </tr>\n",
       "    <tr>\n",
       "      <th>3</th>\n",
       "      <td>SynthstromAudible</td>\n",
       "      <td>C</td>\n",
       "      <td>178</td>\n",
       "      <td>44</td>\n",
       "      <td>20</td>\n",
       "    </tr>\n",
       "    <tr>\n",
       "      <th>4</th>\n",
       "      <td>datawhalechina</td>\n",
       "      <td>Jupyter Notebook</td>\n",
       "      <td>3659</td>\n",
       "      <td>276</td>\n",
       "      <td>428</td>\n",
       "    </tr>\n",
       "    <tr>\n",
       "      <th>5</th>\n",
       "      <td>hncboy</td>\n",
       "      <td>Java</td>\n",
       "      <td>940</td>\n",
       "      <td>168</td>\n",
       "      <td>341</td>\n",
       "    </tr>\n",
       "    <tr>\n",
       "      <th>6</th>\n",
       "      <td>mlc-ai</td>\n",
       "      <td>Python</td>\n",
       "      <td>9428</td>\n",
       "      <td>329</td>\n",
       "      <td>600</td>\n",
       "    </tr>\n",
       "    <tr>\n",
       "      <th>7</th>\n",
       "      <td>ggerganov</td>\n",
       "      <td>C</td>\n",
       "      <td>3612</td>\n",
       "      <td>673</td>\n",
       "      <td>277</td>\n",
       "    </tr>\n",
       "    <tr>\n",
       "      <th>8</th>\n",
       "      <td>TransformerOptimus</td>\n",
       "      <td>Python</td>\n",
       "      <td>5593</td>\n",
       "      <td>1,818</td>\n",
       "      <td>477</td>\n",
       "    </tr>\n",
       "    <tr>\n",
       "      <th>9</th>\n",
       "      <td>ciaochaos</td>\n",
       "      <td>JavaScript</td>\n",
       "      <td>2925</td>\n",
       "      <td>217</td>\n",
       "      <td>282</td>\n",
       "    </tr>\n",
       "    <tr>\n",
       "      <th>10</th>\n",
       "      <td>microsoft</td>\n",
       "      <td>Jupyter Notebook</td>\n",
       "      <td>7059</td>\n",
       "      <td>292</td>\n",
       "      <td>1,391</td>\n",
       "    </tr>\n",
       "  </tbody>\n",
       "</table>\n",
       "</div>"
      ],
      "text/plain": [
       "                    project          language  stars starts_today  forks\n",
       "ranking                                                                 \n",
       "1                     apple              Ruby    805          273     17\n",
       "2                openchatai             Blade   2385          655    191\n",
       "3         SynthstromAudible                 C    178           44     20\n",
       "4            datawhalechina  Jupyter Notebook   3659          276    428\n",
       "5                    hncboy              Java    940          168    341\n",
       "6                    mlc-ai            Python   9428          329    600\n",
       "7                 ggerganov                 C   3612          673    277\n",
       "8        TransformerOptimus            Python   5593        1,818    477\n",
       "9                 ciaochaos        JavaScript   2925          217    282\n",
       "10                microsoft  Jupyter Notebook   7059          292  1,391"
      ]
     },
     "execution_count": 3,
     "metadata": {},
     "output_type": "execute_result"
    }
   ],
   "source": [
    "df = pd.read_csv('github.csv', delimiter=';')\n",
    "df.set_index('ranking', inplace=True)\n",
    "df"
   ]
  },
  {
   "cell_type": "code",
   "execution_count": 4,
   "metadata": {},
   "outputs": [
    {
     "data": {
      "text/plain": [
       "project         object\n",
       "language        object\n",
       "stars            int64\n",
       "starts_today    object\n",
       "forks           object\n",
       "dtype: object"
      ]
     },
     "execution_count": 4,
     "metadata": {},
     "output_type": "execute_result"
    }
   ],
   "source": [
    "df.dtypes"
   ]
  },
  {
   "cell_type": "code",
   "execution_count": 5,
   "metadata": {},
   "outputs": [
    {
     "name": "stdout",
     "output_type": "stream",
     "text": [
      "Projeto com mais estrelas: mlc-ai\n",
      "Número máximo de estrelas: 9428\n"
     ]
    }
   ],
   "source": [
    "projeto_max_stars = df.loc[df['stars'].idxmax(),'project']\n",
    "max_stars = df['stars'].max()\n",
    "\n",
    "print('Projeto com mais estrelas:', projeto_max_stars)\n",
    "print('Número máximo de estrelas:', max_stars)"
   ]
  },
  {
   "cell_type": "code",
   "execution_count": 6,
   "metadata": {},
   "outputs": [
    {
     "name": "stdout",
     "output_type": "stream",
     "text": [
      "Projeto com mais estrelas hoje: ggerganov\n",
      "Número máximo de estrelas hoje: 673.0\n"
     ]
    }
   ],
   "source": [
    "df['starts_today'] = pd.to_numeric(df['starts_today'], errors='coerce') # Converter a coluna \"starts_today\" para o tipo numérico\n",
    "projeto_max_stars_today = df.loc[df['starts_today'].idxmax(), 'project']\n",
    "max_stars_today = df['starts_today'].max()\n",
    "\n",
    "print(\"Projeto com mais estrelas hoje:\", projeto_max_stars_today)\n",
    "print(\"Número máximo de estrelas hoje:\", max_stars_today)"
   ]
  },
  {
   "cell_type": "code",
   "execution_count": 7,
   "metadata": {},
   "outputs": [
    {
     "name": "stdout",
     "output_type": "stream",
     "text": [
      "A linguagem mais usada é: C\n"
     ]
    }
   ],
   "source": [
    "language_counts = df['language'].value_counts()\n",
    "most_used_language = language_counts.idxmax()\n",
    "\n",
    "print('A linguagem mais usada é:', most_used_language)"
   ]
  },
  {
   "cell_type": "code",
   "execution_count": 8,
   "metadata": {},
   "outputs": [
    {
     "name": "stdout",
     "output_type": "stream",
     "text": [
      "A linguagem menos usada é: Ruby\n"
     ]
    }
   ],
   "source": [
    "language_counts = df['language'].value_counts()\n",
    "least_used_language = language_counts.idxmin()\n",
    "\n",
    "print(\"A linguagem menos usada é:\", least_used_language)\n"
   ]
  },
  {
   "cell_type": "code",
   "execution_count": 9,
   "metadata": {},
   "outputs": [
    {
     "data": {
      "image/png": "[encoded data removed]",
      "text/plain": [
       "<Figure size 1000x600 with 1 Axes>"
      ]
     },
     "metadata": {},
     "output_type": "display_data"
    }
   ],
   "source": [
    "sns.set_style(\"whitegrid\")\n",
    "plt.figure(figsize=(10, 6))\n",
    "sns.countplot(data=df, y='language', order=df['language'].value_counts().iloc[:10].index)\n",
    "plt.title('Top 10 Linguagens Mais Usadas')\n",
    "plt.xlabel('Contagem')\n",
    "plt.ylabel('Linguagem')\n",
    "plt.show()\n"
   ]
  },
  {
   "attachments": {},
   "cell_type": "markdown",
   "metadata": {},
   "source": [
    "Entre os 10 projetos mais bem avaliados pela comunidade do github há um empate tecnico entre três linguagens mais usadas nos projetos."
   ]
  },
  {
   "cell_type": "code",
   "execution_count": 10,
   "metadata": {},
   "outputs": [
    {
     "data": {
      "image/png": "[encoded data removed]",
      "text/plain": [
       "<Figure size 800x600 with 1 Axes>"
      ]
     },
     "metadata": {},
     "output_type": "display_data"
    }
   ],
   "source": [
    "sns.set_style(\"whitegrid\")\n",
    "plt.figure(figsize=(8, 6))\n",
    "sns.scatterplot(data=df, x='stars', y='language')\n",
    "plt.title('Relação entre Stars e language')\n",
    "plt.xlabel('Stars')\n",
    "plt.ylabel('language')\n",
    "plt.show()\n"
   ]
  },
  {
   "attachments": {},
   "cell_type": "markdown",
   "metadata": {},
   "source": [
    "O gráfico nos mostra que os projetos que usam a linguagem Python são mais bem avaliados que os outros."
   ]
  }
 ],
 "metadata": {
  "kernelspec": {
   "display_name": "Python 3",
   "language": "python",
   "name": "python3"
  },
  "language_info": {
   "codemirror_mode": {
    "name": "ipython",
    "version": 3
   },
   "file_extension": ".py",
   "mimetype": "text/x-python",
   "name": "python",
   "nbconvert_exporter": "python",
   "pygments_lexer": "ipython3",
   "version": "3.11.2"
  },
  "orig_nbformat": 4
 },
 "nbformat": 4,
 "nbformat_minor": 2
}
